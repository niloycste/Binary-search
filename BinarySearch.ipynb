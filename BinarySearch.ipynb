{
 "cells": [
  {
   "cell_type": "code",
   "execution_count": 8,
   "metadata": {},
   "outputs": [
    {
     "name": "stdout",
     "output_type": "stream",
     "text": [
      "size of a list5\n",
      "12\n",
      "32\n",
      "43\n",
      "45\n",
      "76\n",
      "[12, 32, 43, 45, 76]\n",
      "sorted list: [12, 32, 43, 45, 76]\n",
      "Enter the key Element:43\n",
      "key is found: \n"
     ]
    }
   ],
   "source": [
    "def binarysearch(list,key):\n",
    "    low=0\n",
    "    high=len(list)-1\n",
    "   \n",
    "    found=False\n",
    "    while low<=high and not found:\n",
    "        \n",
    "        mid=(low+high)//2\n",
    "        if key==list[mid]:\n",
    "            found= True\n",
    "        elif key<list[mid]:\n",
    "            high=mid-1\n",
    "        elif key>list[mid]:\n",
    "            low=mid+1\n",
    "    if found==True:\n",
    "        print(\"key is found: \")\n",
    "    else:\n",
    "        print(\"key is not found:\")\n",
    "              \n",
    "        \n",
    "        \n",
    "size=int(input(\"size of a list\"))\n",
    "list=[int(input())for i in range(size)]\n",
    "print(list)\n",
    "list.sort()\n",
    "print(\"sorted list:\",list)\n",
    "key=int(input(\"Enter the key Element:\"))\n",
    "binarysearch(list,key)\n",
    "\n",
    "    "
   ]
  },
  {
   "cell_type": "code",
   "execution_count": null,
   "metadata": {},
   "outputs": [],
   "source": []
  }
 ],
 "metadata": {
  "kernelspec": {
   "display_name": "Python 3",
   "language": "python",
   "name": "python3"
  },
  "language_info": {
   "codemirror_mode": {
    "name": "ipython",
    "version": 3
   },
   "file_extension": ".py",
   "mimetype": "text/x-python",
   "name": "python",
   "nbconvert_exporter": "python",
   "pygments_lexer": "ipython3",
   "version": "3.7.4"
  }
 },
 "nbformat": 4,
 "nbformat_minor": 2
}
